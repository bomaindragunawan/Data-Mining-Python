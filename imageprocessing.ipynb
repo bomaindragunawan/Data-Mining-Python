import numpy as np
import matplotlib.pylab as plt
import tensorflow as tf
from keras.models import Model, Sequential
from keras.layers import Input, Activation, Dense
from keras.optimizers import SGD

#generate data from -20, ..,20
train_x=np.arange(-20,20,0.25)

#calculate target: sqrt(2x^2+1)
train_y=np.sqrt((2*train_x**2)+1)

#create network
inputs = Input(shape=(1,))
h_layer = Dense(8,activation='relu')(inputs)
h_layer = Dense(4,activation='relu')(h_layer)
outputs = Dense(1,activation='linear')(h_layer)
model = Model(inputs=inputs, outputs=outputs)

#optimizer/update rule
sgd = SGD(lr=0.001)

#Compile the model with mean squared error loss

model.compile(optimizer=sgd, loss='mse')

#train the network and save after weights after training

model.fit(train_x, train_y, batch_size=20, epochs=100, verbose=1)
model.save_weights('weights.h5')

#predict training data
predict = model.predict(np.array([26]))
print('f(26)=',predict)
predict_y = model.predict(train_x)

#draw target vs prediction
plt.plot(train_x, train_y, 'r')
plt.plot(train_x, train_y, 'b')
plt.show


